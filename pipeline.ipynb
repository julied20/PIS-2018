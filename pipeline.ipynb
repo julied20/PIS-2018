{
 "cells": [
  {
   "cell_type": "code",
   "execution_count": null,
   "metadata": {},
   "outputs": [],
   "source": [
    "import json\n",
    "import copy\n",
    "import os\n",
    "import numpy as np\n",
    "from shutil import copyfile\n",
    "from matplotlib import pyplot as plt\n",
    "from PIL import Image, ImageDraw\n",
    "\n",
    "from skimage.draw import polygon\n",
    "from skimage.measure import regionprops, label\n",
    "from skimage.morphology import medial_axis"
   ]
  },
  {
   "cell_type": "code",
   "execution_count": null,
   "metadata": {},
   "outputs": [],
   "source": [
    "def extract_name(feature):\n",
    "    if 'name' in feature['properties']:\n",
    "        return feature['properties']['name']\n",
    "    elif 'wikipedia' in feature['properties']:\n",
    "        return feature['properties']['wikipedia']\n",
    "    else:\n",
    "        return None\n",
    "    \n",
    "    \n",
    "def extract_coordinates(feature):\n",
    "    x_coordinates = []\n",
    "    y_coordinates = []\n",
    "    for point in feature['geometry']['coordinates'][0]:\n",
    "        x_coordinates.append(point[0])\n",
    "        y_coordinates.append(point[1])\n",
    "                \n",
    "    return x_coordinates, y_coordinates\n",
    "\n",
    "\n",
    "def binary_image(im_size, x_coordinates, y_coordinates):\n",
    "    x_coordinates = np.array(x_coordinates)\n",
    "    y_coordinates = np.array(y_coordinates)\n",
    "\n",
    "    x_coordinates -= min(x_coordinates)\n",
    "    y_coordinates -= min(y_coordinates)\n",
    "\n",
    "\n",
    "    x_max = max(x_coordinates)\n",
    "    y_max = max(y_coordinates)\n",
    "\n",
    "    if x_max >= y_max:\n",
    "        ratio = im_size/x_max\n",
    "\n",
    "    else:\n",
    "        ratio = im_size/y_max\n",
    "\n",
    "    x_coordinates *= ratio\n",
    "    y_coordinates *= ratio\n",
    "\n",
    "    img = np.zeros((im_size, im_size), dtype=np.uint8)\n",
    "\n",
    "    x, y = polygon(x_coordinates, y_coordinates)\n",
    "    img[x, y] = 1\n",
    "    \n",
    "    return img\n",
    "\n",
    "def binary_image_center(im_size, x_coordinates, y_coordinates, y_centroid):\n",
    "    # In that space, y and x axis are inverted\n",
    "    x_centroid = y_centroid\n",
    "    \n",
    "    x_coordinates = np.array(x_coordinates)\n",
    "    y_coordinates = np.array(y_coordinates)\n",
    "\n",
    "    x_coordinates -= min(x_coordinates)\n",
    "    y_coordinates -= min(y_coordinates)\n",
    "\n",
    "    x_max = max(x_coordinates)\n",
    "    y_max = max(y_coordinates)\n",
    "\n",
    "    ratio = im_size / y_max\n",
    "\n",
    "    x_coordinates *= ratio\n",
    "    y_coordinates *= ratio\n",
    "\n",
    "    x_coordinates = np.array([min(im_size - 1, max(0, x + im_size / 2 - x_centroid)) for x in x_coordinates])\n",
    "    y_coordinates = np.array([min(im_size - 1, max(0, y)) for y in y_coordinates])\n",
    "    \n",
    "    img = np.zeros((im_size, im_size), dtype=np.uint8)\n",
    "\n",
    "    x, y = polygon(x_coordinates, y_coordinates)\n",
    "    img[x, y] = 1\n",
    "    \n",
    "    return img\n",
    "\n",
    "\n",
    "def unique_orientation_coords(bin_image, x_coords, y_coords):\n",
    "    props = regionprops(bin_image)\n",
    "\n",
    "    angle = -props[0].orientation\n",
    "    cos = np.cos(angle)\n",
    "    sin = np.sin(angle)\n",
    "\n",
    "    x_coords_rot = []\n",
    "    y_coords_rot = []\n",
    "\n",
    "    for i in range(len(x_coords)):\n",
    "        x = x_coords[i]\n",
    "        y = y_coords[i]\n",
    "\n",
    "        x_coords_rot.append(x * cos - y * sin)\n",
    "        y_coords_rot.append(y * cos + x * sin)\n",
    "\n",
    "        \n",
    "    return x_coords_rot, y_coords_rot, angle\n",
    "\n",
    "\n",
    "def most_frequent_colour(image):\n",
    "\n",
    "    w, h = image.size\n",
    "    pixels = image.getcolors(w * h)\n",
    "\n",
    "    most_frequent_pixel = pixels[0]\n",
    "\n",
    "    for count, colour in pixels:\n",
    "        if count > most_frequent_pixel[0] and colour != (0, 0, 0):\n",
    "            most_frequent_pixel = (count, colour)\n",
    "\n",
    "    return most_frequent_pixel[1]"
   ]
  },
  {
   "cell_type": "code",
   "execution_count": null,
   "metadata": {},
   "outputs": [],
   "source": [
    "with open('geojson/lacs_suisse.geojson') as f:\n",
    "    lakes_geo = json.load(f)"
   ]
  },
  {
   "cell_type": "markdown",
   "metadata": {},
   "source": [
    "#### Conversion to format accepted by Leonardo's code"
   ]
  },
  {
   "cell_type": "code",
   "execution_count": null,
   "metadata": {},
   "outputs": [],
   "source": [
    "lakes_leonardo = []\n",
    "\n",
    "for feature in lakes_geo['features']:\n",
    "    if feature['geometry']['type'] == 'Polygon':\n",
    "        lake = {\n",
    "            'id': feature['properties']['@id'].replace('/', '_'),\n",
    "            'vertices': feature['geometry']['coordinates'][0],\n",
    "            'name': extract_name(feature),\n",
    "        }\n",
    "\n",
    "        lakes_leonardo.append(lake)"
   ]
  },
  {
   "cell_type": "code",
   "execution_count": null,
   "metadata": {},
   "outputs": [],
   "source": [
    "with open('json/lakes_leo_suisse.json', 'w') as f:\n",
    "    \n",
    "    f.write(json.dumps(lakes_leonardo))"
   ]
  },
  {
   "cell_type": "markdown",
   "metadata": {},
   "source": [
    "# Now use leo's script to download + crop images"
   ]
  },
  {
   "cell_type": "markdown",
   "metadata": {},
   "source": [
    "..."
   ]
  },
  {
   "cell_type": "code",
   "execution_count": null,
   "metadata": {},
   "outputs": [],
   "source": [
    "cropped_path = 'leonardo-git/maps/images/processed'\n",
    "raw_path = 'leonardo-git/maps/images/raw'\n",
    "collection_path = 'lake_collection'\n",
    "json_path = 'json'"
   ]
  },
  {
   "cell_type": "markdown",
   "metadata": {},
   "source": [
    "## Copy files in collection folder "
   ]
  },
  {
   "cell_type": "code",
   "execution_count": null,
   "metadata": {},
   "outputs": [],
   "source": [
    "lakes_infos = {}\n",
    "\n",
    "for lake in lakes_leonardo:\n",
    "    lakes_infos[lake['id']] = {'name': lake['name']}"
   ]
  },
  {
   "cell_type": "code",
   "execution_count": null,
   "metadata": {},
   "outputs": [],
   "source": [
    "for lake_id in lakes_infos.keys():\n",
    "    \n",
    "    # Raw image\n",
    "    raw_src = os.path.join(raw_path, lake_id + '.png')\n",
    "    raw_dst = os.path.join(collection_path, lake_id + '_raw.png')\n",
    "    \n",
    "    # Cropped image\n",
    "    cropped_src = os.path.join(cropped_path, lake_id + '.png')\n",
    "    cropped_dst = os.path.join(collection_path, lake_id + '_cropped.png')\n",
    "    \n",
    "    # Mask image\n",
    "    mask_src = os.path.join(cropped_path, lake_id + '_mask.png')\n",
    "    mask_dst = os.path.join(collection_path, lake_id + '_mask.png')\n",
    "    \n",
    "    # Copy files\n",
    "    copyfile(raw_src, raw_dst)\n",
    "    copyfile(cropped_src, cropped_dst)\n",
    "    copyfile(mask_src, mask_dst)"
   ]
  },
  {
   "cell_type": "markdown",
   "metadata": {},
   "source": [
    "## Binary image, angle, skeleton"
   ]
  },
  {
   "cell_type": "code",
   "execution_count": null,
   "metadata": {},
   "outputs": [],
   "source": [
    "def centroid_y(bin_img, im_size):\n",
    "    y_counts = np.sum(bin_img, axis=1)\n",
    "    indices = np.arange(im_size)\n",
    "\n",
    "    return sum(y_counts * indices) / sum(y_counts)"
   ]
  },
  {
   "cell_type": "code",
   "execution_count": null,
   "metadata": {},
   "outputs": [],
   "source": [
    "im_size = 50\n",
    "\n",
    "binary_images = {}\n",
    "distances_images_orig = {}\n",
    "distances_images = {}\n",
    "\n",
    "for feature in lakes_geo['features']: #TODO ALL\n",
    "    if feature['geometry']['type'] == 'Polygon':\n",
    "        try:\n",
    "            id_ = feature['properties']['@id'].replace('/', '_')\n",
    "            coordinates = extract_coordinates(feature)\n",
    "            bin_image = binary_image(im_size, *coordinates)\n",
    "            \n",
    "            skeleton_orig, distance_orig = medial_axis(bin_image, return_distance=True)\n",
    "\n",
    "            x_coords_rot, y_coords_rot, angle = unique_orientation_coords(bin_image, coordinates[0], coordinates[1])\n",
    "            bin_image_rot = binary_image(im_size, x_coords_rot, y_coords_rot)\n",
    "\n",
    "            centroid = centroid_y(bin_image_rot, im_size)\n",
    "            bin_image_center = binary_image_center(im_size, x_coords_rot, y_coords_rot, centroid)\n",
    "\n",
    "            skeleton, distance = medial_axis(bin_image_center, return_distance=True)\n",
    "\n",
    "            cropped = Image.open(os.path.join(collection_path, id_ + '_cropped.png'))\n",
    "            most_freq_color = most_frequent_colour(cropped)\n",
    "\n",
    "            lakes_infos[id_]['angle'] = angle\n",
    "            lakes_infos[id_]['most_freq_color'] = most_freq_color\n",
    "            lakes_infos[id_]['first_coordinate'] = (coordinates[1][0], coordinates[0][0])\n",
    "\n",
    "            binary_images[id_] = bin_image.tolist()\n",
    "            distances_images_orig[id_] = distance_orig.tolist()\n",
    "            distances_images[id_] = distance.tolist()\n",
    "            \n",
    "        except Exception as e:\n",
    "            del lakes_infos[id_]\n",
    "            print(e)\n",
    "            print('Skipped ' + id_)#TODO remove from object"
   ]
  },
  {
   "cell_type": "code",
   "execution_count": null,
   "metadata": {},
   "outputs": [],
   "source": [
    "with open(os.path.join(json_path, 'lakes_infos.json'), 'w') as f:\n",
    "    f.write(json.dumps(lakes_infos))\n",
    "    \n",
    "with open(os.path.join(json_path, 'binary_images.json'), 'w') as f:\n",
    "    f.write(json.dumps(binary_images))\n",
    "    \n",
    "with open(os.path.join(json_path, 'distances_images.json'), 'w') as f:\n",
    "    f.write(json.dumps(distances_images))\n",
    "    \n",
    "with open(os.path.join(json_path, 'distances_images_orig.json'), 'w') as f:\n",
    "    f.write(json.dumps(distances_images_orig))"
   ]
  },
  {
   "cell_type": "code",
   "execution_count": null,
   "metadata": {},
   "outputs": [],
   "source": [
    "#with open(os.path.join(collection_path, 'lakes_infos.json'), 'r') as f:\n",
    "#    lakes_infos = json.load(f)"
   ]
  },
  {
   "cell_type": "code",
   "execution_count": null,
   "metadata": {},
   "outputs": [],
   "source": []
  },
  {
   "cell_type": "code",
   "execution_count": null,
   "metadata": {},
   "outputs": [],
   "source": []
  },
  {
   "cell_type": "code",
   "execution_count": null,
   "metadata": {},
   "outputs": [],
   "source": []
  },
  {
   "cell_type": "code",
   "execution_count": null,
   "metadata": {},
   "outputs": [],
   "source": []
  },
  {
   "cell_type": "code",
   "execution_count": null,
   "metadata": {},
   "outputs": [],
   "source": []
  },
  {
   "cell_type": "code",
   "execution_count": null,
   "metadata": {},
   "outputs": [],
   "source": []
  },
  {
   "cell_type": "code",
   "execution_count": null,
   "metadata": {},
   "outputs": [],
   "source": []
  },
  {
   "cell_type": "code",
   "execution_count": null,
   "metadata": {},
   "outputs": [],
   "source": []
  },
  {
   "cell_type": "code",
   "execution_count": null,
   "metadata": {},
   "outputs": [],
   "source": []
  },
  {
   "cell_type": "code",
   "execution_count": null,
   "metadata": {},
   "outputs": [],
   "source": []
  },
  {
   "cell_type": "code",
   "execution_count": null,
   "metadata": {},
   "outputs": [],
   "source": []
  }
 ],
 "metadata": {
  "kernelspec": {
   "display_name": "Python 3",
   "language": "python",
   "name": "python3"
  },
  "language_info": {
   "codemirror_mode": {
    "name": "ipython",
    "version": 3
   },
   "file_extension": ".py",
   "mimetype": "text/x-python",
   "name": "python",
   "nbconvert_exporter": "python",
   "pygments_lexer": "ipython3",
   "version": "3.6.4"
  }
 },
 "nbformat": 4,
 "nbformat_minor": 2
}
