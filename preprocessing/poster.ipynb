{
 "cells": [
  {
   "cell_type": "code",
   "execution_count": null,
   "metadata": {},
   "outputs": [],
   "source": [
    "import json\n",
    "import os\n",
    "import numpy as np\n",
    "import pandas as pd\n",
    "import matplotlib.image as mpimg\n",
    "from matplotlib import pyplot as plt"
   ]
  },
  {
   "cell_type": "code",
   "execution_count": null,
   "metadata": {},
   "outputs": [],
   "source": [
    "collection_path = 'lake_collection'\n",
    "json_path = 'json'"
   ]
  },
  {
   "cell_type": "code",
   "execution_count": null,
   "metadata": {},
   "outputs": [],
   "source": [
    "with open(os.path.join(json_path, 'lakes_infos.json'), 'r') as f:\n",
    "    lakes_infos = json.load(f)\n",
    "\n",
    "with open(os.path.join(json_path, 'binary_images.json'), 'r') as f:\n",
    "    binary_images = json.load(f)\n",
    "\n",
    "with open(os.path.join(json_path, 'binary_images_orig.json'), 'r') as f:\n",
    "    binary_images_orig = json.load(f)\n",
    "\n",
    "with open(os.path.join(json_path, 'distances_images.json'), 'r') as f:\n",
    "    distances_images = json.load(f)\n",
    "\n",
    "with open(os.path.join(json_path, 'distances_images_orig.json'), 'r') as f:\n",
    "    distances_images_orig = json.load(f)"
   ]
  },
  {
   "cell_type": "code",
   "execution_count": null,
   "metadata": {},
   "outputs": [],
   "source": [
    "def area(bin_image):\n",
    "    return np.array(bin_image).sum()"
   ]
  },
  {
   "cell_type": "code",
   "execution_count": null,
   "metadata": {},
   "outputs": [],
   "source": [
    "areas = [area(bin_image) for bin_image in binary_images_orig.values()]"
   ]
  },
  {
   "cell_type": "code",
   "execution_count": null,
   "metadata": {},
   "outputs": [],
   "source": [
    "pd.Series(areas).hist(bins=100)"
   ]
  },
  {
   "cell_type": "code",
   "execution_count": null,
   "metadata": {},
   "outputs": [],
   "source": [
    "areas_by_id = {lake_id: area(bin_image) for lake_id, bin_image in binary_images_orig.items()}"
   ]
  },
  {
   "cell_type": "code",
   "execution_count": null,
   "metadata": {},
   "outputs": [],
   "source": [
    "lakes_df = pd.DataFrame(lakes_infos).transpose()[['angle', 'name']]\n",
    "lakes_df['area'] = pd.Series(areas_by_id)\n",
    "lakes_df['angle'] = lakes_df['angle'].astype(float)"
   ]
  },
  {
   "cell_type": "code",
   "execution_count": null,
   "metadata": {},
   "outputs": [],
   "source": [
    "quantizer_angle = 20\n",
    "quantizer_area = 15"
   ]
  },
  {
   "cell_type": "code",
   "execution_count": null,
   "metadata": {},
   "outputs": [],
   "source": [
    "lakes_df.head()"
   ]
  },
  {
   "cell_type": "code",
   "execution_count": null,
   "metadata": {},
   "outputs": [],
   "source": [
    "lakes_df['area_quantile'] = pd.qcut(lakes_df['area'], quantizer_area, labels=range(quantizer_area))"
   ]
  },
  {
   "cell_type": "code",
   "execution_count": null,
   "metadata": {},
   "outputs": [],
   "source": [
    "lakes_df['angle_quantile'] = pd.qcut(lakes_df['angle'], quantizer_angle, labels=range(quantizer_angle))"
   ]
  },
  {
   "cell_type": "code",
   "execution_count": null,
   "metadata": {},
   "outputs": [],
   "source": [
    "def select_one(lakes_df, area_q, angle_q):\n",
    "    selected_lakes = lakes_df[(lakes_df['area_quantile'] == area_q) & (lakes_df['angle_quantile'] == angle_q)]\n",
    "    \n",
    "    if len(selected_lakes) == 0:\n",
    "        return None\n",
    "    \n",
    "    if not all(selected_lakes['name'].isnull()):\n",
    "        selected_lakes = selected_lakes[selected_lakes['name'].notnull()]\n",
    "        \n",
    "    return selected_lakes.sample(1).index.values[0]"
   ]
  },
  {
   "cell_type": "code",
   "execution_count": null,
   "metadata": {},
   "outputs": [],
   "source": [
    "lakes_df['angle'].hist(bins=100)"
   ]
  },
  {
   "cell_type": "code",
   "execution_count": null,
   "metadata": {},
   "outputs": [],
   "source": [
    "id_matrix = np.array(\n",
    "    [\n",
    "        [select_one(lakes_df, q_area, q_angle) for q_angle in range(quantizer_angle)]\n",
    "            for q_area in range(quantizer_area)\n",
    "    ]\n",
    ")"
   ]
  },
  {
   "cell_type": "code",
   "execution_count": null,
   "metadata": {},
   "outputs": [],
   "source": [
    "scale = 3\n",
    "\n",
    "inches_A2 = (23.39 * scale, 16.53 * scale) \n",
    "\n",
    "fig, axes = plt.subplots(quantizer_area, quantizer_angle, figsize=inches_A2)\n",
    "\n",
    "for q_angle in range(quantizer_angle):\n",
    "    for q_area in range(quantizer_area):\n",
    "        lake_id = id_matrix[q_area][q_angle]\n",
    "        \n",
    "        ax = axes[q_area, q_angle]\n",
    "        ax.axis('off')\n",
    "        if lake_id is not None:\n",
    "            ax.imshow(np.flip(np.transpose(distances_images_orig[lake_id]), axis=0))\n",
    "\n",
    "        \n",
    "fig.savefig('poster1.png', bbox_inches='tight')"
   ]
  },
  {
   "cell_type": "code",
   "execution_count": null,
   "metadata": {},
   "outputs": [],
   "source": [
    "fig, axes = plt.subplots(quantizer_area, quantizer_angle, figsize=inches_A2)\n",
    "\n",
    "for q_angle in range(quantizer_angle):\n",
    "    for q_area in range(quantizer_area):      \n",
    "        lake_id = id_matrix[q_area][q_angle]\n",
    "        \n",
    "        ax = axes[q_area, q_angle]\n",
    "        ax.axis('off')\n",
    "        \n",
    "        if lake_id is not None:\n",
    "            im_path = os.path.join(collection_path, lake_id + '_raw.png')\n",
    "            image = mpimg.imread(im_path)\n",
    "            ax.imshow(image)       \n",
    "        \n",
    "fig.savefig('poster2.png', bbox_inches='tight')"
   ]
  },
  {
   "cell_type": "code",
   "execution_count": null,
   "metadata": {},
   "outputs": [],
   "source": [
    "lakes_df[lakes_df['name'] == 'Lac Léman']"
   ]
  },
  {
   "cell_type": "code",
   "execution_count": null,
   "metadata": {},
   "outputs": [],
   "source": [
    "leman_id = 'relation_332617'"
   ]
  },
  {
   "cell_type": "code",
   "execution_count": null,
   "metadata": {},
   "outputs": [],
   "source": [
    "plt.imshow(np.flip(np.transpose(distances_images_orig[leman_id]), axis=0))"
   ]
  },
  {
   "cell_type": "code",
   "execution_count": null,
   "metadata": {},
   "outputs": [],
   "source": [
    "plt.imshow(distances_images[leman_id])"
   ]
  },
  {
   "cell_type": "code",
   "execution_count": null,
   "metadata": {},
   "outputs": [],
   "source": [
    "plt.imshow(np.flip(np.transpose(binary_images_orig[leman_id]), axis=0))"
   ]
  },
  {
   "cell_type": "code",
   "execution_count": null,
   "metadata": {},
   "outputs": [],
   "source": [
    "image = mpimg.imread('leman.png')"
   ]
  },
  {
   "cell_type": "code",
   "execution_count": null,
   "metadata": {},
   "outputs": [],
   "source": [
    "image = [[1 - rgb[0] for rgb in row] for row in image]"
   ]
  },
  {
   "cell_type": "code",
   "execution_count": null,
   "metadata": {},
   "outputs": [],
   "source": [
    "plt.imshow(image)"
   ]
  },
  {
   "cell_type": "code",
   "execution_count": null,
   "metadata": {},
   "outputs": [],
   "source": [
    "from skimage.morphology import medial_axis\n",
    "\n",
    "skeleton, distance = medial_axis(np.array(image), return_distance=True)"
   ]
  },
  {
   "cell_type": "code",
   "execution_count": null,
   "metadata": {},
   "outputs": [],
   "source": [
    "plt.imshow(distance)"
   ]
  },
  {
   "cell_type": "code",
   "execution_count": null,
   "metadata": {},
   "outputs": [],
   "source": [
    "distances_images['leman_hand'] = distance.tolist()"
   ]
  },
  {
   "cell_type": "code",
   "execution_count": null,
   "metadata": {},
   "outputs": [],
   "source": [
    "with open(os.path.join('json', 'distances_images_hand.json'), 'w') as f:\n",
    "    f.write(json.dumps(distances_images))"
   ]
  },
  {
   "cell_type": "code",
   "execution_count": null,
   "metadata": {},
   "outputs": [],
   "source": []
  }
 ],
 "metadata": {
  "kernelspec": {
   "display_name": "Python 3",
   "language": "python",
   "name": "python3"
  },
  "language_info": {
   "codemirror_mode": {
    "name": "ipython",
    "version": 3
   },
   "file_extension": ".py",
   "mimetype": "text/x-python",
   "name": "python",
   "nbconvert_exporter": "python",
   "pygments_lexer": "ipython3",
   "version": "3.6.4"
  }
 },
 "nbformat": 4,
 "nbformat_minor": 2
}
