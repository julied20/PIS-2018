{
 "cells": [
  {
   "cell_type": "code",
   "execution_count": null,
   "metadata": {},
   "outputs": [],
   "source": [
    "import json\n",
    "from itertools import combinations\n",
    "import numpy as np\n",
    "from matplotlib import pyplot as plt\n",
    "from skimage.draw import polygon\n",
    "from skimage.morphology import skeletonize, skeletonize_3d, medial_axis\n",
    "from skimage.measure import regionprops, label"
   ]
  },
  {
   "cell_type": "markdown",
   "metadata": {},
   "source": [
    "## Methods definition"
   ]
  },
  {
   "cell_type": "code",
   "execution_count": null,
   "metadata": {},
   "outputs": [],
   "source": [
    "def extract_name(feature):\n",
    "    if 'name' in feature['properties']:\n",
    "        return feature['properties']['name']\n",
    "    elif 'wikipedia' in feature['properties']:\n",
    "        return feature['properties']['wikipedia']\n",
    "    else:\n",
    "        return None\n",
    "    "
   ]
  },
  {
   "cell_type": "code",
   "execution_count": null,
   "metadata": {},
   "outputs": [],
   "source": [
    "def extract_coordinates(feature):\n",
    "    x_coordinates = []\n",
    "    y_coordinates = []\n",
    "    for point in feature['geometry']['coordinates'][0]:\n",
    "        x_coordinates.append(point[0])\n",
    "        y_coordinates.append(point[1])\n",
    "                \n",
    "    return x_coordinates, y_coordinates"
   ]
  },
  {
   "cell_type": "code",
   "execution_count": null,
   "metadata": {},
   "outputs": [],
   "source": [
    "def binary_image(im_size, x_coordinates, y_coordinates):\n",
    "    x_coordinates = np.array(x_coordinates)\n",
    "    y_coordinates = np.array(y_coordinates)\n",
    "\n",
    "    x_coordinates -= min(x_coordinates)\n",
    "    y_coordinates -= min(y_coordinates)\n",
    "\n",
    "\n",
    "    x_max = max(x_coordinates)\n",
    "    y_max = max(y_coordinates)\n",
    "\n",
    "    if x_max >= y_max:\n",
    "        ratio = im_size/x_max\n",
    "\n",
    "    else:\n",
    "        ratio = im_size/y_max\n",
    "\n",
    "    x_coordinates *= ratio\n",
    "    y_coordinates *= ratio\n",
    "\n",
    "    img = np.zeros((im_size, im_size), dtype=np.uint8)\n",
    "\n",
    "    x, y = polygon(x_coordinates, y_coordinates)\n",
    "    img[x, y] = 1\n",
    "    \n",
    "    return img"
   ]
  },
  {
   "cell_type": "code",
   "execution_count": null,
   "metadata": {},
   "outputs": [],
   "source": []
  },
  {
   "cell_type": "markdown",
   "metadata": {},
   "source": [
    "## Data loading"
   ]
  },
  {
   "cell_type": "code",
   "execution_count": null,
   "metadata": {},
   "outputs": [],
   "source": [
    "im_size = 50\n"
   ]
  },
  {
   "cell_type": "code",
   "execution_count": null,
   "metadata": {},
   "outputs": [],
   "source": [
    "with open('geojson/lacs_chablais.geojson') as f:\n",
    "    lacs_chablais = json.load(f)"
   ]
  },
  {
   "cell_type": "markdown",
   "metadata": {},
   "source": [
    "#### Conversion to format accepted by Leonardo's code"
   ]
  },
  {
   "cell_type": "code",
   "execution_count": null,
   "metadata": {},
   "outputs": [],
   "source": [
    "lakes_leo = []\n",
    "\n",
    "for feature in lacs_chablais['features']:\n",
    "    if feature['geometry']['type'] == 'Polygon':\n",
    "        lake = {\n",
    "            'id': feature['properties']['@id'].replace('/', '_'),\n",
    "            'vertices': feature['geometry']['coordinates'][0],\n",
    "            'name': extract_name(feature),\n",
    "        }\n",
    "\n",
    "        lakes_leo.append(lake)"
   ]
  },
  {
   "cell_type": "code",
   "execution_count": null,
   "metadata": {},
   "outputs": [],
   "source": [
    "with open('json/lakes_leo_suisse.json', 'w') as f:\n",
    "    \n",
    "    f.write(json.dumps(lakes_leo))"
   ]
  },
  {
   "cell_type": "markdown",
   "metadata": {},
   "source": [
    "#### TODO: Manage multipolygon"
   ]
  },
  {
   "cell_type": "code",
   "execution_count": null,
   "metadata": {},
   "outputs": [],
   "source": [
    "lakes = []\n",
    "for feature in lacs_chablais['features']:\n",
    "    if feature['geometry']['type'] == 'Polygon':\n",
    "        name = extract_name(feature)\n",
    "        coordinates = extract_coordinates(feature)\n",
    "        bin_image = binary_image(im_size, *coordinates)\n",
    "        lakes.append((name, bin_image, coordinates))"
   ]
  },
  {
   "cell_type": "code",
   "execution_count": null,
   "metadata": {},
   "outputs": [],
   "source": [
    "def logical_distance(im1, im2):\n",
    "    im_xor = np.logical_xor(im1,im2)\n",
    "    #plt.imshow(im_xor)\n",
    "    #plt.show()\n",
    "    return np.sum(im_xor)\n",
    "    "
   ]
  },
  {
   "cell_type": "code",
   "execution_count": null,
   "metadata": {},
   "outputs": [],
   "source": [
    "im1 = lakes[0][1]\n",
    "im2 = lakes[1][1]\n",
    "\n",
    "total_sum = logical_distance(im1, im2)"
   ]
  },
  {
   "cell_type": "code",
   "execution_count": null,
   "metadata": {},
   "outputs": [],
   "source": [
    "total_sum"
   ]
  },
  {
   "cell_type": "code",
   "execution_count": null,
   "metadata": {},
   "outputs": [],
   "source": [
    "distances = []\n",
    "for lake1, lake2 in combinations(lakes,2):\n",
    "    distances.append((logical_distance(lake1[1], lake2[1]), lake1, lake2))\n",
    "    "
   ]
  },
  {
   "cell_type": "code",
   "execution_count": null,
   "metadata": {},
   "outputs": [],
   "source": [
    "distances = sorted(distances, key=lambda d: d[0])"
   ]
  },
  {
   "cell_type": "code",
   "execution_count": null,
   "metadata": {},
   "outputs": [],
   "source": [
    "#distances[0]"
   ]
  },
  {
   "cell_type": "code",
   "execution_count": null,
   "metadata": {},
   "outputs": [],
   "source": [
    "distance = distances[16]\n",
    "\n",
    "plt.imshow(distance[1][1])\n",
    "plt.show()\n",
    "plt.imshow(distance[2][1])\n",
    "plt.show()"
   ]
  },
  {
   "cell_type": "code",
   "execution_count": null,
   "metadata": {},
   "outputs": [],
   "source": [
    "for name, bin_im, coordinates in lakes:\n",
    "    props = regionprops(bin_im)\n",
    "    plt.imshow(bin_im)\n",
    "    print(name)\n",
    "    print(props[0]['orientation'])\n",
    "    plt.show()\n",
    "    "
   ]
  },
  {
   "cell_type": "code",
   "execution_count": null,
   "metadata": {},
   "outputs": [],
   "source": [
    "with open('geojson/lacs_chablais.geojson') as f:\n",
    "    data = json.load(f)"
   ]
  },
  {
   "cell_type": "code",
   "execution_count": null,
   "metadata": {},
   "outputs": [],
   "source": [
    "x_coordinates, y_coordinates = extract_coordinates(data['features'][2])"
   ]
  },
  {
   "cell_type": "markdown",
   "metadata": {},
   "source": [
    "## Binary image creation"
   ]
  },
  {
   "cell_type": "code",
   "execution_count": null,
   "metadata": {},
   "outputs": [],
   "source": [
    "lac_des_rousses_bin = binary_image(im_size, x_coordinates, y_coordinates)"
   ]
  },
  {
   "cell_type": "code",
   "execution_count": null,
   "metadata": {},
   "outputs": [],
   "source": [
    "plt.imshow(lac_des_rousses_bin)\n",
    "plt.show()"
   ]
  },
  {
   "cell_type": "markdown",
   "metadata": {},
   "source": [
    "### Unique Orientation"
   ]
  },
  {
   "cell_type": "code",
   "execution_count": null,
   "metadata": {},
   "outputs": [],
   "source": [
    "def unique_orientation_coords(bin_image, x_coords, y_coords):\n",
    "    props = regionprops(bin_image)\n",
    "\n",
    "    angle = -props[0].orientation\n",
    "    cos = np.cos(angle)\n",
    "    sin = np.sin(angle)\n",
    "\n",
    "    x_coords_rot = []\n",
    "    y_coords_rot = []\n",
    "\n",
    "    for i in range(len(x_coords)):\n",
    "        x = x_coords[i]\n",
    "        y = y_coords[i]\n",
    "\n",
    "        x_coords_rot.append(x * cos - y * sin)\n",
    "        y_coords_rot.append(y * cos + x * sin)\n",
    "        \n",
    "    return x_coords_rot, y_coords_rot"
   ]
  },
  {
   "cell_type": "code",
   "execution_count": null,
   "metadata": {},
   "outputs": [],
   "source": [
    "plt.imshow(lac_des_rousses_bin)\n",
    "plt.show()\n",
    "\n",
    "x_coords_rot, y_coords_rot = unique_orientation_coords(lac_des_rousses_bin, x_coordinates, y_coordinates)\n",
    "lac_des_rousses_bin_rot = binary_image(im_size, x_coords_rot, y_coords_rot)\n",
    "\n",
    "plt.imshow(lac_des_rousses_bin_rot)\n",
    "plt.show()"
   ]
  },
  {
   "cell_type": "code",
   "execution_count": null,
   "metadata": {},
   "outputs": [],
   "source": [
    "for name, bin_image, coordinates in lakes:\n",
    "    props = regionprops(bin_image)\n",
    "    \n",
    "    x_coords_rot, y_coords_rot = unique_orientation_coords(bin_image, coordinates[0], coordinates[1])\n",
    "    bin_image_rot = binary_image(im_size, x_coords_rot, y_coords_rot)\n",
    "    \n",
    "    plt.imshow(bin_image_rot)\n",
    "    plt.show()\n",
    "    print(name)"
   ]
  },
  {
   "cell_type": "markdown",
   "metadata": {},
   "source": [
    "### Skeleton vs Medial Axi vs Skeleton 3D"
   ]
  },
  {
   "cell_type": "code",
   "execution_count": null,
   "metadata": {},
   "outputs": [],
   "source": [
    "skeleton = skeletonize(lac_des_rousses_bin)"
   ]
  },
  {
   "cell_type": "code",
   "execution_count": null,
   "metadata": {},
   "outputs": [],
   "source": [
    "skeleton"
   ]
  },
  {
   "cell_type": "code",
   "execution_count": null,
   "metadata": {},
   "outputs": [],
   "source": [
    "plt.imshow(skeleton)\n",
    "plt.show()"
   ]
  },
  {
   "cell_type": "code",
   "execution_count": null,
   "metadata": {},
   "outputs": [],
   "source": [
    "skel, distance = medial_axis(lac_des_rousses_bin, return_distance=True)"
   ]
  },
  {
   "cell_type": "code",
   "execution_count": null,
   "metadata": {},
   "outputs": [],
   "source": [
    "plt.imshow(skel)\n",
    "plt.show()"
   ]
  },
  {
   "cell_type": "code",
   "execution_count": null,
   "metadata": {},
   "outputs": [],
   "source": [
    "plt.imshow(distance) #TODO use distance instead of 0-1 entries\n",
    "plt.show()"
   ]
  },
  {
   "cell_type": "code",
   "execution_count": null,
   "metadata": {},
   "outputs": [],
   "source": [
    "skel2, distance2 = medial_axis(np.ones((300, 300)), return_distance=True)"
   ]
  },
  {
   "cell_type": "code",
   "execution_count": null,
   "metadata": {},
   "outputs": [],
   "source": [
    "np.max(distance2)"
   ]
  },
  {
   "cell_type": "code",
   "execution_count": null,
   "metadata": {},
   "outputs": [],
   "source": [
    "from PIL import Image"
   ]
  },
  {
   "cell_type": "code",
   "execution_count": null,
   "metadata": {},
   "outputs": [],
   "source": [
    "Image.fromarray(distance2).save('coucou.tiff')"
   ]
  },
  {
   "cell_type": "code",
   "execution_count": null,
   "metadata": {},
   "outputs": [],
   "source": [
    "skeleton_3d = skeletonize_3d(lac_des_rousses_bin)"
   ]
  },
  {
   "cell_type": "code",
   "execution_count": null,
   "metadata": {},
   "outputs": [],
   "source": [
    "plt.imshow(skeleton_3d)\n",
    "plt.show()"
   ]
  },
  {
   "cell_type": "code",
   "execution_count": null,
   "metadata": {},
   "outputs": [],
   "source": [
    "distances = []\n",
    "\n",
    "for name, bin_image, coordinates in lakes:\n",
    "    props = regionprops(bin_image)\n",
    "    \n",
    "    x_coords_rot, y_coords_rot = unique_orientation_coords(bin_image, coordinates[0], coordinates[1])\n",
    "    bin_image_rot = binary_image(im_size, x_coords_rot, y_coords_rot)\n",
    "    \n",
    "    print(name)\n",
    "    plt.imshow(bin_image_rot)\n",
    "    plt.show()\n",
    "    \n",
    "    skel, distance = medial_axis(bin_image_rot, return_distance=True)\n",
    "    \n",
    "    distances.append({'name': name, 'distance': distance.tolist()})"
   ]
  },
  {
   "cell_type": "code",
   "execution_count": null,
   "metadata": {},
   "outputs": [],
   "source": [
    "import json, os"
   ]
  },
  {
   "cell_type": "code",
   "execution_count": null,
   "metadata": {},
   "outputs": [],
   "source": [
    "with open(os.path.join('vptree', 'images.dump'), 'w') as f:\n",
    "    json.dump(distances, f)"
   ]
  },
  {
   "cell_type": "code",
   "execution_count": null,
   "metadata": {},
   "outputs": [],
   "source": []
  },
  {
   "cell_type": "code",
   "execution_count": null,
   "metadata": {},
   "outputs": [],
   "source": []
  }
 ],
 "metadata": {
  "kernelspec": {
   "display_name": "Python 3",
   "language": "python",
   "name": "python3"
  },
  "language_info": {
   "codemirror_mode": {
    "name": "ipython",
    "version": 3
   },
   "file_extension": ".py",
   "mimetype": "text/x-python",
   "name": "python",
   "nbconvert_exporter": "python",
   "pygments_lexer": "ipython3",
   "version": "3.6.4"
  }
 },
 "nbformat": 4,
 "nbformat_minor": 2
}
